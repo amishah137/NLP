{
 "cells": [
  {
   "cell_type": "code",
   "execution_count": 1,
   "id": "a21e080a-4a1f-4525-99bb-bd1ccbcdf630",
   "metadata": {},
   "outputs": [],
   "source": [
    "import nltk"
   ]
  },
  {
   "cell_type": "code",
   "execution_count": 2,
   "id": "5fe21ae1-2f83-446b-abc3-559990b969e3",
   "metadata": {},
   "outputs": [],
   "source": [
    "from nltk.stem import PorterStemmer\n",
    "from nltk.corpus import stopwords"
   ]
  },
  {
   "cell_type": "code",
   "execution_count": 3,
   "id": "b08621d9-de94-4808-830b-58312f922efc",
   "metadata": {},
   "outputs": [],
   "source": [
    "paragraph = \"\"\"I have three visions for India. In 3000 years of our history, people from all over \n",
    "               the world have come and invaded us, captured our lands, conquered our minds. \n",
    "               From Alexander onwards, the Greeks, the Turks, the Moguls, the Portuguese, the British,\n",
    "               the French, the Dutch, all of them came and looted us, took over what was ours. \n",
    "               Yet we have not done this to any other nation. We have not conquered anyone. \n",
    "               We have not grabbed their land, their culture, \n",
    "               their history and tried to enforce our way of life on them. \n",
    "               Why? Because we respect the freedom of others.That is why my \n",
    "               first vision is that of freedom. I believe that India got its first vision of \n",
    "               this in 1857, when we started the War of Independence. It is this freedom that\n",
    "               we must protect and nurture and build on. If we are not free, no one will respect us.\n",
    "               My second vision for India’s development. For fifty years we have been a developing nation.\n",
    "               It is time we see ourselves as a developed nation. We are among the top 5 nations of the world\n",
    "               in terms of GDP. We have a 10 percent growth rate in most areas. Our poverty levels are falling.\n",
    "               Our achievements are being globally recognised today. Yet we lack the self-confidence to\n",
    "               see ourselves as a developed nation, self-reliant and self-assured. Isn’t this incorrect?\n",
    "               I have a third vision. India must stand up to the world. Because I believe that unless India \n",
    "               stands up to the world, no one will respect us. Only strength respects strength. We must be \n",
    "               strong not only as a military power but also as an economic power. Both must go hand-in-hand. \n",
    "               My good fortune was to have worked with three great minds. Dr. Vikram Sarabhai of the Dept. of \n",
    "               space, Professor Satish Dhawan, who succeeded him and Dr. Brahm Prakash, father of nuclear material.\n",
    "               I was lucky to have worked with all three of them closely and consider this the great opportunity of my life. \n",
    "               I see four milestones in my career\"\"\""
   ]
  },
  {
   "cell_type": "code",
   "execution_count": 4,
   "id": "006d7c9a-9f5d-4001-8d29-a84470ed23c3",
   "metadata": {},
   "outputs": [],
   "source": [
    "sentences = nltk.sent_tokenize(paragraph)\n",
    "stemmer = PorterStemmer()"
   ]
  },
  {
   "cell_type": "markdown",
   "id": "9d28944d-22a4-447b-97d2-8fcbd43a90a3",
   "metadata": {},
   "source": [
    "## Stemming after stop words removal"
   ]
  },
  {
   "cell_type": "code",
   "execution_count": 5,
   "id": "547fb9e5-18cc-44e3-a9b9-abb8816b95ee",
   "metadata": {},
   "outputs": [
    {
     "name": "stdout",
     "output_type": "stream",
     "text": [
      "line No. Original Length New Length\n",
      "0 31 22\n",
      "1 143 79\n",
      "2 182 105\n",
      "3 46 17\n",
      "4 29 18\n",
      "5 122 53\n",
      "6 4 5\n",
      "7 104 57\n",
      "8 115 59\n",
      "9 80 38\n",
      "10 43 26\n",
      "11 41 34\n",
      "12 49 31\n",
      "13 50 28\n",
      "14 75 38\n",
      "15 47 32\n",
      "16 31 24\n",
      "17 53 34\n",
      "18 117 64\n",
      "19 21 17\n",
      "20 22 16\n",
      "21 33 24\n",
      "22 99 59\n",
      "23 32 32\n",
      "24 93 49\n",
      "25 26 27\n",
      "26 58 38\n",
      "27 32 26\n",
      "28 119 85\n",
      "29 109 53\n",
      "30 34 26\n"
     ]
    }
   ],
   "source": [
    "print(\"line No.\", \"Original Length\", \"New Length\")\n",
    "for i in range(len(sentences)):\n",
    "    words = nltk.word_tokenize(sentences[i])\n",
    "    n = len(sentences[i])\n",
    "    words = [stemmer.stem(word) for word in words if word not in set(stopwords.words('english'))]\n",
    "    sentences[i] = ' '.join(words)\n",
    "    print(i, n, len(sentences[i]))"
   ]
  },
  {
   "cell_type": "code",
   "execution_count": null,
   "id": "f4661b9b-37b2-47fa-8acc-b3dc6a24a765",
   "metadata": {},
   "outputs": [],
   "source": []
  }
 ],
 "metadata": {
  "kernelspec": {
   "display_name": "Python 3 (ipykernel)",
   "language": "python",
   "name": "python3"
  },
  "language_info": {
   "codemirror_mode": {
    "name": "ipython",
    "version": 3
   },
   "file_extension": ".py",
   "mimetype": "text/x-python",
   "name": "python",
   "nbconvert_exporter": "python",
   "pygments_lexer": "ipython3",
   "version": "3.11.4"
  }
 },
 "nbformat": 4,
 "nbformat_minor": 5
}
